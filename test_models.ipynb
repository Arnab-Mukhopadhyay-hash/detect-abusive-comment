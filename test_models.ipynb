{
 "cells": [
  {
   "cell_type": "markdown",
   "metadata": {},
   "source": [
    "# Test Modules\n",
    "\n",
    "This notebook is used to test the models that are pretrained. The models are tested on the test set of the dataset. The test set is the same for all the models. The test set is a subset of the dataset that is not used for training. The test set is used to evaluate the performance of the models."
   ]
  }
 ],
 "metadata": {
  "language_info": {
   "name": "python"
  }
 },
 "nbformat": 4,
 "nbformat_minor": 2
}
